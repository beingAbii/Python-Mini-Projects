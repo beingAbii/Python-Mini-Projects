{
 "cells": [
  {
   "cell_type": "markdown",
   "id": "627a3c3f",
   "metadata": {},
   "source": [
    "# RANDOM PASSWORD GENERATOR"
   ]
  },
  {
   "cell_type": "code",
   "execution_count": 1,
   "id": "e3a8cfac",
   "metadata": {},
   "outputs": [
    {
     "name": "stdout",
     "output_type": "stream",
     "text": [
      "Do you want to generate a password (Yes/No): yes\n",
      "How long would you like your password to be 68\n",
      "$R@2+kokT6d5iCpTTvBV*t&#qK8SwBvj2)$YEGU8jG!V$4CfYR8l0!2a#kQGE#$@M3W!\n"
     ]
    }
   ],
   "source": [
    "import string\n",
    "import random\n",
    "characters = list(string.ascii_letters + string.digits + \"!@#$%^&*()_+\")\n",
    "def generate_password():\n",
    "    password_length = int(input(\"How long would you like your password to be \"))\n",
    "    random.shuffle(characters)\n",
    "    password = []\n",
    "    for x in range(password_length):\n",
    "        password.append(random.choice(characters))\n",
    "    random.shuffle(password)\n",
    "    password = \"\".join(password)\n",
    "    print(password)\n",
    "option = input(\"Do you want to generate a password (Yes/No): \")\n",
    "if option == \"yes\":\n",
    "    generate_password()\n",
    "elif option ==\"no\":\n",
    "    print(\"program ended\")\n",
    "    quit()\n",
    "else:\n",
    "    print(\"invalid input,please enter Yes/No\")\n",
    "    quit()"
   ]
  },
  {
   "cell_type": "code",
   "execution_count": null,
   "id": "c8e2b754",
   "metadata": {},
   "outputs": [],
   "source": []
  }
 ],
 "metadata": {
  "kernelspec": {
   "display_name": "Python 3 (ipykernel)",
   "language": "python",
   "name": "python3"
  },
  "language_info": {
   "codemirror_mode": {
    "name": "ipython",
    "version": 3
   },
   "file_extension": ".py",
   "mimetype": "text/x-python",
   "name": "python",
   "nbconvert_exporter": "python",
   "pygments_lexer": "ipython3",
   "version": "3.11.1"
  }
 },
 "nbformat": 4,
 "nbformat_minor": 5
}
