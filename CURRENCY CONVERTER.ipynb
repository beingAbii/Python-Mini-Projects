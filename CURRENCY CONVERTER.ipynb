{
 "cells": [
  {
   "cell_type": "markdown",
   "id": "bae5cadc",
   "metadata": {},
   "source": [
    "#CURRENCY CONVERTER"
   ]
  },
  {
   "cell_type": "code",
   "execution_count": 4,
   "id": "289bab6b",
   "metadata": {},
   "outputs": [
    {
     "name": "stdout",
     "output_type": "stream",
     "text": [
      "This program converts US dollars into pound sterling\n",
      "Enter amount in dollars: 100\n",
      "That is 82.0 pounds.\n"
     ]
    }
   ],
   "source": [
    "def convert_to_pounds(dollars):\n",
    "    return dollars * 0.82\n",
    "\n",
    "def main():\n",
    "    print(\"This program converts US dollars into pound sterling\")\n",
    "    dollars = eval(input(\"Enter amount in dollars: \"))\n",
    "    pounds = convert_to_pounds(dollars)\n",
    "    print(\"That is\", pounds, \"pounds.\")\n",
    "\n",
    "main()\n"
   ]
  },
  {
   "cell_type": "code",
   "execution_count": null,
   "id": "dc85056d",
   "metadata": {},
   "outputs": [],
   "source": []
  }
 ],
 "metadata": {
  "kernelspec": {
   "display_name": "Python 3 (ipykernel)",
   "language": "python",
   "name": "python3"
  },
  "language_info": {
   "codemirror_mode": {
    "name": "ipython",
    "version": 3
   },
   "file_extension": ".py",
   "mimetype": "text/x-python",
   "name": "python",
   "nbconvert_exporter": "python",
   "pygments_lexer": "ipython3",
   "version": "3.11.1"
  }
 },
 "nbformat": 4,
 "nbformat_minor": 5
}
