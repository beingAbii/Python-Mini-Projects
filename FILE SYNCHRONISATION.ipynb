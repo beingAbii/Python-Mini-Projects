{
 "cells": [
  {
   "cell_type": "markdown",
   "id": "daeb8a63",
   "metadata": {},
   "source": [
    "# TASK 1\n",
    "# FILE SYNCHRONISATION\n",
    "   COPYING THE SOURCE FILE TO DESTINATION FOLDER"
   ]
  },
  {
   "cell_type": "code",
   "execution_count": 14,
   "id": "39ad8d3c",
   "metadata": {},
   "outputs": [],
   "source": [
    "import os\n",
    "import shutil\n",
    "import hashlib\n",
    "from mlist import Mlist\n",
    "source_path = \"E:\\letsupgrade python project-source\"\n",
    "dest_path = \"E:\\letsupgrade python project-dest\""
   ]
  },
  {
   "cell_type": "code",
   "execution_count": 3,
   "id": "52b6da9f",
   "metadata": {},
   "outputs": [
    {
     "name": "stdout",
     "output_type": "stream",
     "text": [
      "['txt1.txt', 'txt2.txt']\n"
     ]
    }
   ],
   "source": [
    "list_files = os.listdir(source_path)\n",
    "print(list_files)\n",
    "\n",
    "#os,listdir() finds the number of filesin the folder"
   ]
  },
  {
   "cell_type": "code",
   "execution_count": 4,
   "id": "5a3acb7c",
   "metadata": {},
   "outputs": [
    {
     "name": "stdout",
     "output_type": "stream",
     "text": [
      "E:\\letsupgrade python project-source\\txt1.txt was copied successfully!\n",
      "E:\\letsupgrade python project-source\\txt2.txt was copied successfully!\n"
     ]
    }
   ],
   "source": [
    "for file in (list_files):\n",
    "    # Create the full source file path(source path with file name)\n",
    "    file_path = os.path.join(source_path, file)\n",
    "    \n",
    "    # Copy the file to the destination directory\n",
    "    shutil.copy(file_path, dest_path)\n",
    "    # shutil.copy will directly the source file and will move to destibation.\n",
    "    \n",
    "    # Print a message indicating that the file was copied\n",
    "    print(file_path, \"was copied successfully!\")"
   ]
  },
  {
   "cell_type": "markdown",
   "id": "ad02b589",
   "metadata": {},
   "source": [
    "# TASK 2\n",
    "# MODYFING THE SOURCE FILE AND REPLACING IN DESTINATION FOLDER\n"
   ]
  },
  {
   "cell_type": "code",
   "execution_count": 37,
   "id": "2dc0b9f7",
   "metadata": {
    "scrolled": true
   },
   "outputs": [
    {
     "name": "stdout",
     "output_type": "stream",
     "text": [
      "List of files in source directory: {'test3.txt', 'txt2.txt', 'txt1.txt'}\n",
      "List of files in destination directory: {'txt2.txt', 'txt1.txt'}\n",
      "List of remaining files to be copied: {'test3.txt'}\n"
     ]
    }
   ],
   "source": [
    "\n",
    "def logic():\n",
    "    list_files = os.listdir(source_path)\n",
    "    list_dest_files = os.listdir(dest_path)\n",
    "    list_files = set(list_files)\n",
    "    list_dest_files = set(list_dest_files)\n",
    "    remaining_files = list_files - list_dest_files\n",
    "    \n",
    "    print(\"List of files in source directory:\", list_files)\n",
    "    print(\"List of files in destination directory:\", list_dest_files)\n",
    "    print(\"List of remaining files to be copied:\", remaining_files)\n",
    "    \n",
    "    for file in remaining_files:\n",
    "        file_path = os.path.join(source_path, file)\n",
    "        dest_file = os.path.join(dest_path, file)\n",
    "        shutil.copy(file_path, dest_file)\n",
    "    \n",
    "logic()\n",
    "# Here, text3 is the modified file and that has been printed"
   ]
  },
  {
   "cell_type": "code",
   "execution_count": 39,
   "id": "370ae8f5",
   "metadata": {},
   "outputs": [
    {
     "name": "stdout",
     "output_type": "stream",
     "text": [
      "E:\\letsupgrade python project-source\\txt2.txt ---> d41d8cd98f00b204e9800998ecf8427e\n",
      "E:\\letsupgrade python project-source\\txt2.txt ---> d41d8cd98f00b204e9800998ecf8427e\n",
      "E:\\letsupgrade python project-source\\txt2.txt ---> d41d8cd98f00b204e9800998ecf8427e\n",
      "\n",
      "for dest_file\n",
      "E:\\letsupgrade python project-dest\\txt2.txt ---> d41d8cd98f00b204e9800998ecf8427e\n",
      "E:\\letsupgrade python project-dest\\txt2.txt ---> d41d8cd98f00b204e9800998ecf8427e\n",
      "E:\\letsupgrade python project-dest\\txt2.txt ---> d41d8cd98f00b204e9800998ecf8427e\n"
     ]
    }
   ],
   "source": [
    "def md5(fname,size=4096):\n",
    "    hash_md5 = hashlib.md5()\n",
    "    with open(fname, \"rb\") as f:\n",
    "        for chunk in iter(lambda: f.read(size), b\"\"):\n",
    "            hash_md5.update(chunk)\n",
    "    return hash_md5.hexdigest()\n",
    "def check_hash():\n",
    "    print(\"for source_file\")\n",
    "for file in os.listdir(source_path):\n",
    "    file_path = os.path.join(source_path, filename)\n",
    "    print(file_path,\"--->\", md5(file_path))\n",
    "print(\"\")\n",
    "print(\"for dest_file\")\n",
    "for file in os.listdir(dest_path):\n",
    "    file_path1 = os.path.join(dest_path, filename)\n",
    "    print(file_path1,\"--->\", md5(file_path1))"
   ]
  },
  {
   "cell_type": "code",
   "execution_count": null,
   "id": "55a84484",
   "metadata": {},
   "outputs": [],
   "source": []
  }
 ],
 "metadata": {
  "kernelspec": {
   "display_name": "Python 3 (ipykernel)",
   "language": "python",
   "name": "python3"
  },
  "language_info": {
   "codemirror_mode": {
    "name": "ipython",
    "version": 3
   },
   "file_extension": ".py",
   "mimetype": "text/x-python",
   "name": "python",
   "nbconvert_exporter": "python",
   "pygments_lexer": "ipython3",
   "version": "3.11.1"
  }
 },
 "nbformat": 4,
 "nbformat_minor": 5
}
